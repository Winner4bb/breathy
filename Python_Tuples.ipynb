{
  "nbformat": 4,
  "nbformat_minor": 0,
  "metadata": {
    "colab": {
      "provenance": [],
      "include_colab_link": true
    },
    "kernelspec": {
      "name": "python3",
      "display_name": "Python 3"
    },
    "language_info": {
      "name": "python"
    }
  },
  "cells": [
    {
      "cell_type": "markdown",
      "metadata": {
        "id": "view-in-github",
        "colab_type": "text"
      },
      "source": [
        "<a href=\"https://colab.research.google.com/github/Winner4bb/breathy/blob/main/Python_Tuples.ipynb\" target=\"_parent\"><img src=\"https://colab.research.google.com/assets/colab-badge.svg\" alt=\"Open In Colab\"/></a>"
      ]
    },
    {
      "cell_type": "markdown",
      "source": [
        "S.PY.TP.A01 ให้สร้าง tuple ชื่อ fruits ที่มีค่าคือ \"Avocado\", \"Blueberry\", และ \"Lemon\" แล้วทำการตรวจสอบ type พร้อมกับดึงคำว่า \"Avocado\" มาแสดง\n",
        "\n",
        "ตัวอย่างการดึงข้อมูลใน tuples\n",
        "\n",
        "    thistuple = (\"apple\", \"banana\", \"cherry\")\n",
        "    print(thistuple[1])\n",
        "\n",
        "\n",
        "#OUTPUT\n",
        "![image.png](data:image/png;base64,iVBORw0KGgoAAAANSUhEUgAAAKQAAAAvCAYAAABtwmFaAAAAAXNSR0IArs4c6QAAAARnQU1BAACxjwv8YQUAAAAJcEhZcwAADsMAAA7DAcdvqGQAAAaxSURBVHhe7Zs9TCpZFMfPbkszFM9GYkJjRSMvedqCW0ojS6sm2miliZ0FoTfxVdJogrYsNlhj7UueFRWFJBts9hXQUO/ecz9m7nwxMwhv7zzPLyHMB5cZLv97Pu4989vW1ta/QBCG8Lt8JwgjIEESRkGCJIyCBEkYBQmSMAoSJGEUsaZ9stms3IrGsiyYTCYwHo/lEYKIz0xBohDPz8/lXjI6nQ68vLzIPYKIx0xBVqtVKBaLiYWVz+f5++XlJX8niLhEChLFlVRYSsgXFxfyyP/NMVy1y5Dj21Po3x1A45HvGEIF6q09KEx6UDttymPL5/hrG8qrYnvav4eDRlfsxGbx9z0zqUG3e3t7K/fi0+v1DLOOTTir1aBW68FIHkkNO3Vota/YkFo8zVPskxr03uQBA4jMsoOSk8PDQ9stB4FtlpvUoMVrQX1H7v4iTMepGy6coPuu1FvQqlfkXnwSF1dgooOCxHe0gj89m0aLsV8ACHAx2Al7hYzcAxg91eDsWu5wUMibMPG5bOl6VNNpH+4PGuB8u+7yGd7zJ1fQLtln53R/XjzXtHFCDv57s8+Ou+R9Y8Fz7Yz5BPxNVYC/nsHaV98zgh4/5wZd9+Y4qj+D24Yj7/8tmTtPLEgE48Nyucy30aWjKFGgu7u7M6eI1GfnRv7xfqGpzhtHdFqwICv1Kyh+P5PHhDjzQ+cPCvvDBGEiXxAukbmJFiQOMkfAPGYEv0ACfx/vaxZ+yevya+WHnoEahbwH8A7wcEJdNiYmOOUT9EIxovB0a4lCe3h44G3VOf2F8eh7xIgd0i5lWef6xYiiKLORPHpKMoIdug0lRqQLL8MpZLJu25TJF1n3hpGB/Ofk7ulnMHpyBkpzwFyrtTLjdzgcr+PAd/qz23iGUSYPxURhUhcaByxGnRRgL2YcHCpInOCehRIXvuvbQVbw5uYGhsOh3JuHChTzjiv2sbMCWebKJn/L/aTwxKENbfnS3T7SPL1nYxw7VZy/OpEnOCxhuusDFPZk++UkIAsjYwWEAV4qsML+/lzJ6ZN2YPiQhBxsxogpQwWJwsIYMeiF1g6tnhKgjleU7xcjIkZa7WkMhX2vIBiP/8D8tpe5XBmTYsaJr/v+VJ5TyOvjeSa+LPujXPfw2IADu20WyiaLcjqJPdOAoZHqE/FKGpagy2ZhgsVcNmsfJ66OzLK9oBCPjo74NgozCCVKFO/7xahxfWYLwp3BNWHwloHCn/VY7iiI8Q/ZWcxaVj0W0kWE+Ls/5h8agfDr5WDdOwgVtgsWAyv8ztl5Fn9Phy8xYjkRtuRK7xlYMn7EOcoEcedcSQ3GkSjGhYotEcGJhD7Ri9jJjycLFniyVS2b7DMrV7CTBbyW2125smjfdy9h4t11Df37VeIijz8NIV/yJjV4TuDO/v2/C9E/4+4Xhm/2IRxsW4VOLKuoM5cgiTQgBGl9C0oCzWWmy97e3ubWMCnztiOIyLVsnHPEpcAkbGxs8FjTnLXsj0g6LeRMQaoJcBRXUl5fX30ZOEFEERlDqjXrpKKkWkhiHiipIYwi8TwkQSwTEuSi4cuQhi8fGky6BKnWnFvzr8gQZpMqQVY+swSr34M+JK06IdJCipIaZ16t98m9LBVUq+c95l0G89VUepYAZy6zeYtOfcuH7mJW95LmEpYWfyHSYyF3ipDPjGDARIQFDHp9Yvf7EKaeWr1cNuMUEjDBiOJdWbXyNIJcSXsEggtK1FqqyhZ9Dfb46zoMVFt8Lme17FT7YBiht73rM8k54EBQ1S54/h4r1fYpxgwjNYJEd515Gwircz1wF4s+NuD5TS+SPYb11RE8c1Exy/olxyxez7ZYWDXUsz+vzndCrVbzVC/8xcoigOwnWWPzB5auhbWVhcPfHMvdbXSgP51RvfPBSYkgRYHuaKBkIcrN9CptrIa2rebJOuSUeCV2eZmPHFjMk4efZ6AFtQtV3RVF0byjcPgDkg5BcnftrmBGUbgeK9CsJi+/t8UrUBZNICqiBSOYeOtxdbhLFs/xKHee7LHRDFhrcpMjBgARTDoEuWZBBmvxpCDsWM0VNwqraa0xd81itp6dsMhnZAplJ247KUOBxaPCpccpRtWsHLOWrprLMftue2Cw5MdVJCvce+6LM01VqW9Cjv0W5/4InVRk2cFP/YmsW386kFuzWI/I+jNdbxauZ9muLJmJqT8pQN6+H3Efoil+Lz52iklQWJad9HHSjwWtZRNGkZ5pH+JDQIIkjIIESRgFCZIwChIkYRQkSMIoSJCEUZAgCaMgQRIGAfAf/X6PtGZbF74AAAAASUVORK5CYII=)"
      ],
      "metadata": {
        "id": "nH11pb5je3R1"
      }
    },
    {
      "cell_type": "code",
      "execution_count": null,
      "metadata": {
        "id": "7NJNCd3hetLY"
      },
      "outputs": [],
      "source": []
    },
    {
      "cell_type": "markdown",
      "source": [
        "S.PY.TP.A02 ให้สร้าง tuple ชื่อ computer ที่มีค่าคือ \"Mainboard\", \"CPU\" และ \"RAM\" แล้วให้นำคำว่า \"SSD\" ไปแทนที่คำว่า \"RAM\" และเพิ่มคำว่า \"GPU\"\n",
        "\n",
        "ตัวอย่างการเปลี่ยนประเภทข้อมูล\n",
        "\n",
        "    x = (\"apple\", \"banana\", \"cherry\")\n",
        "    y = list(x) #เปลี่ยนไปเป็น list\n",
        "    y[1] = \"kiwi\"\n",
        "    x = tuple(y) #เปลี่ยนไปเป็น tuple\n",
        "\n",
        "ตัวอย่างการเพิ่มข้อมูล\n",
        "\n",
        "    thistuple = (\"apple\", \"banana\", \"cherry\")\n",
        "    y = (\"orange\",)\n",
        "    thistuple += y\n",
        "\n",
        "#OUTPUT\n",
        "![image.png](data:image/png;base64,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)"
      ],
      "metadata": {
        "id": "kUuz_iXGnpJJ"
      }
    },
    {
      "cell_type": "code",
      "source": [],
      "metadata": {
        "id": "yOiBBl2-pAH9"
      },
      "execution_count": null,
      "outputs": []
    },
    {
      "cell_type": "markdown",
      "source": [
        "S.PY.TP.A03 ให้สร้าง tuple ที่มีเลข 5 ตัว (10, 20, 30, 40, 50) และรับตัวเลขจากผู้ใช้ด้วยคำสั่ง input() แล้วตรวจสอบว่ามีเลขอยู่ใน tuple หรือไม่\n",
        "\n",
        "#OUTPUT\n",
        "![image.png](data:image/png;base64,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)![image.png](data:image/png;base64,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)"
      ],
      "metadata": {
        "id": "gR74FoKmuDoW"
      }
    },
    {
      "cell_type": "code",
      "source": [],
      "metadata": {
        "id": "zuEnxFkmtR4H"
      },
      "execution_count": null,
      "outputs": []
    },
    {
      "cell_type": "markdown",
      "source": [
        "S.PY.TP.A04 คุณได้รับมอบหมายให้พัฒนาโปรแกรมสำหรับจัดการข้อมูลสินค้าในคลังสินค้า โดยข้อมูลของสินค้าจะถูกจัดเก็บในรูปแบบรายการซึ่งประกอบด้วยชื่อสินค้า จำนวนสินค้า และราคาต่อหน่วย ดังนี้:\n",
        "\n",
        "    1.ปากกา จำนวน 100 ชิ้น ราคาชิ้นละ 15 บาท\n",
        "    2.ดินสอ จำนวน 50 ชิ้น ราคาชิ้นละ 5 บาท\n",
        "    3.สมุด จำนวน 30 ชิ้น ราคาชิ้นละ 20 บาท\n",
        "    3.ยางลบ จำนวน 60 ชิ้น ราคาชิ้นละ 10 บาท\n",
        "\n",
        "สิ่งที่ต้องทำคือ\n",
        "\n",
        "    1.มีช่องสำหรับรับชื่อสินค้าเพื่อนำไปตรวจสอบว่ามีอยู่ในคลังหรือไม่\n",
        "      1.1ถ้ามีสินค้าอยู่ให้แสดงชื่อ จำนวน และราคา\n",
        "      1.2ถ้าไม่มีสินค้า ให้แสดงคำว่า \"ไม่พบสินค้าในคลัง\"\n",
        "    2.ให้ทำการเขียน Flowchart และ Man/Machine chart ก่อนทำการเขียนโปรแกรม\n",
        "    \n",
        "\n",
        "ตัวอย่างการสร้าง tuple ใน list สังเกตจากวงเล็บ ถ้า list จะใช้ [ ] ถ้า tuple จะใช้ ( )\n",
        "\n",
        "\n",
        "    fruits = [\n",
        "      (\"Mango\", 100, 5.0),\n",
        "      (\"Orange\", 50, 2.0),\n",
        "      (\"Raspberry\", 30, 12.5)\n",
        "    ]\n",
        "\n",
        "#OUTPUT\n",
        "![image.png](data:image/png;base64,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)![image.png](data:image/png;base64,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)\n"
      ],
      "metadata": {
        "id": "DpRMkMdavo2H"
      }
    },
    {
      "cell_type": "code",
      "source": [],
      "metadata": {
        "id": "yYYmxWckxVJb"
      },
      "execution_count": null,
      "outputs": []
    },
    {
      "cell_type": "markdown",
      "source": [
        "S.PY.TP.A05 ให้สร้างโปรแกรมในการตรวจเช็คราคาว่า สินค้าชิ้นไหนมีราคาสูง หรือราคาปกติ\n",
        "\n",
        "โดยกำหนด tuple ให้ดังนี้\n",
        "\n",
        "    products = (\n",
        "        (\"Milk\", 25),\n",
        "        (\"Bread\", 15),\n",
        "        (\"Eggs\", 40),\n",
        "        (\"Juice\", 30),\n",
        "    )\n",
        "\n",
        "เงื่อนไข\n",
        "\n",
        "    1.ถ้าราคาสินค้ามากกว่า 30 บาท ให้พิมพ์ว่า \"สินค้าราคาสูง\"\n",
        "    2.ถ้าราคาไม่เกิน 30 บาท ให้พิมพ์ว่า \"สินค้าราคาปกติ\"\n",
        "\n",
        "#OUTPUT\n",
        "\n",
        "![image.png](data:image/png;base64,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)"
      ],
      "metadata": {
        "id": "UtVVlrv7Scws"
      }
    },
    {
      "cell_type": "code",
      "source": [],
      "metadata": {
        "id": "l2c_NiwuT-0D"
      },
      "execution_count": null,
      "outputs": []
    },
    {
      "cell_type": "markdown",
      "source": [
        "S.PY.TP.A06 ให้เขียนโปรแกรมในการคำนวณโบนัสเงินเดือน\n",
        "\n",
        "โดยกำหนด tuple ของเงินเดือนแค่ละคน\n",
        "\n",
        "    employees = (\n",
        "        (\"Alice\", 25000),\n",
        "        (\"Bob\", 30000),\n",
        "        (\"Charlie\", 45000),\n",
        "        (\"David\", 50000),\n",
        "    )\n",
        "\n",
        "เงื่อนไข\n",
        "\n",
        "    1.ถ้าเงินเดือนมากกว่า 40000 บาท ให้โบนัส 10% ของเงินเดือน (เงินเดือน*1.1)\n",
        "    2.ถ้าเงินเดือนไม่เกิน 40000 บาท ให้โบนัส 5% ของเงินเดือน (เงินเดือน*1.05)\n",
        "\n",
        "ให้ทำการเขียน Flowchart ก่อนทำการเขียนโปรแกรม\n",
        "\n",
        "ตัวอย่างการทำให้ทศนิยมเป็น 2 ตำแหน่ง\n",
        "\n",
        "    number = 123.45678\n",
        "    rounded_number = round(number, 2)\n",
        "    print(rounded_number)   \n",
        "    \n",
        "    Output:\n",
        "    123.46\n",
        "\n",
        "#OUTPUT\n",
        "\n",
        "![image.png](data:image/png;base64,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)"
      ],
      "metadata": {
        "id": "xBkCiQIsU_Hk"
      }
    },
    {
      "cell_type": "code",
      "source": [],
      "metadata": {
        "id": "4N7F_6q0X1Iv"
      },
      "execution_count": null,
      "outputs": []
    },
    {
      "cell_type": "markdown",
      "source": [
        "#TEST"
      ],
      "metadata": {
        "id": "G3He6O_D190p"
      }
    },
    {
      "cell_type": "markdown",
      "source": [
        "S.PY.TP.T01 ให้เขียนโปรแกรมคำนวณค่า BMI ของเพื่อนแต่ละคน โดยรับข้อมูลที่ประกอบด้วย ชื่อ, ส่วนสูง (เมตร) และ น้ำหนัก (กิโลกรัม) ของเพื่อน 3 คน หลังจากนั้นโปรแกรมจะคำนวณค่า BMI และแสดงผลลัพธ์พร้อมเปรียบเทียบค่าที่ได้ว่าอยู่ในเกณฑ์ ผอม, สมส่วน, หรือ อ้วน\n",
        "\n",
        "\n",
        "เกณฑ์การประเมินค่า BMI:\n",
        "\n",
        "    ผอม: BMI < 18.5\n",
        "    สมส่วน: 18.5 ≤ BMI < 24.9\n",
        "    อ้วน: BMI ≥ 25\n",
        "\n",
        "\n",
        "ข้อมูลเพื่อนที่กำหนดให้:\n",
        "\n",
        "\n",
        "    ชื่อ: เบน, ส่วนสูง: 1.80 ม., น้ำหนัก: 72 กก.\n",
        "    ชื่อ: น้ำฝน, ส่วนสูง: 1.60 ม., น้ำหนัก: 55 กก.\n",
        "    ชื่อ: ก้อง, ส่วนสูง: 1.75 ม., น้ำหนัก: 68 กก.\n",
        "\n",
        "ให้ทำการเขียน Flowchart ก่อนทำการเขียนโปรแกรม\n",
        "\n",
        "#OUTPUT\n",
        "![image.png](data:image/png;base64,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)"
      ],
      "metadata": {
        "id": "aEh6ZQLh22Ro"
      }
    },
    {
      "cell_type": "code",
      "source": [],
      "metadata": {
        "id": "WT9RKsYMAvnN"
      },
      "execution_count": null,
      "outputs": []
    },
    {
      "cell_type": "markdown",
      "source": [
        "S.PY.TP.T02 ให้เขียนโปรแกรมในการค้นหาว่าลูกค้าที่จองโต๊ะไว้ นั่งโต๊ะที่เท่าไหร่ และเวลากี่โมง\n",
        "\n",
        "โดยกำหนดข้อมูลให้\n",
        "\n",
        "        1.\"คุณสมชาย\" โต๊ะ 4 เวลา \"18:00\"\n",
        "        2.\"คุณอารีย์\" โต๊ะ 2 เวลา \"19:30\"\n",
        "        3.\"คุณมานพ\" โต๊ะ 3 เวลา \"18:30\"\n",
        "        4.\"คุณจิราภา\" โต๊ะ 5 เวลา \"20:00\"\n",
        "        5.\"คุณนพ\" โต๊ะ 2 เวลา \"17:30\"\n",
        "\n",
        "ให้ทำการเขียน Flowchart และ Man/Machine chart ก่อนทำการเขียนโปรแกรม\n",
        "\n",
        "#OUTPUT\n",
        "![image.png](data:image/png;base64,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)\n",
        "![image.png](data:image/png;base64,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)\n",
        "\n"
      ],
      "metadata": {
        "id": "BokH3IGyB_hu"
      }
    },
    {
      "cell_type": "code",
      "source": [],
      "metadata": {
        "id": "-cVAt4UHEZuI"
      },
      "execution_count": null,
      "outputs": []
    },
    {
      "cell_type": "markdown",
      "source": [
        "S.PY.TP.T03 คุณได้รับมอบหมายให้สร้างโปรแกรมในการประมวลผล คะแนนในการแข่งขันกีฬาสี ซึ่งผู้เข้าแข่งขันจะต้องได้รับคะแนนมากกว่า 80 คะแนน เพื่อที่จะเข้ารอบถัดไป\n",
        "\n",
        "โดยกำหนดให้ผู้เข้าแข่งมีดังนี้\n",
        "\n",
        "    Contestants = [\n",
        "      (\"John:\",70),\n",
        "      (\"Alice:\",80),\n",
        "      (\"Bob:\",50)\n",
        "    ]\n",
        "\n",
        "#OUTPUT\n",
        "![image.png](data:image/png;base64,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)\n"
      ],
      "metadata": {
        "id": "3zIn04MRaS2i"
      }
    },
    {
      "cell_type": "code",
      "source": [],
      "metadata": {
        "id": "3hBpjT9fBxIV"
      },
      "execution_count": null,
      "outputs": []
    }
  ]
}